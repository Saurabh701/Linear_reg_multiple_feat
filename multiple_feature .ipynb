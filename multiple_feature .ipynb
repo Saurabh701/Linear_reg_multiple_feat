{
 "cells": [
  {
   "cell_type": "markdown",
   "metadata": {},
   "source": [
    "# Implementation of linear Regression for multiple fetures using matrix"
   ]
  },
  {
   "cell_type": "markdown",
   "metadata": {},
   "source": [
    "### Import All the necessary modules"
   ]
  },
  {
   "cell_type": "code",
   "execution_count": 1,
   "metadata": {},
   "outputs": [],
   "source": [
    "import pandas as pd\n",
    "import numpy as np\n",
    "import matplotlib.pyplot as plt"
   ]
  },
  {
   "cell_type": "markdown",
   "metadata": {},
   "source": [
    "### Read training csv fles using pandas"
   ]
  },
  {
   "cell_type": "code",
   "execution_count": 2,
   "metadata": {},
   "outputs": [],
   "source": [
    "df = pd.read_csv('Train.csv')"
   ]
  },
  {
   "cell_type": "code",
   "execution_count": 3,
   "metadata": {},
   "outputs": [
    {
     "data": {
      "text/html": [
       "<div>\n",
       "<style scoped>\n",
       "    .dataframe tbody tr th:only-of-type {\n",
       "        vertical-align: middle;\n",
       "    }\n",
       "\n",
       "    .dataframe tbody tr th {\n",
       "        vertical-align: top;\n",
       "    }\n",
       "\n",
       "    .dataframe thead th {\n",
       "        text-align: right;\n",
       "    }\n",
       "</style>\n",
       "<table border=\"1\" class=\"dataframe\">\n",
       "  <thead>\n",
       "    <tr style=\"text-align: right;\">\n",
       "      <th></th>\n",
       "      <th>feature_1</th>\n",
       "      <th>feature_2</th>\n",
       "      <th>feature_3</th>\n",
       "      <th>feature_4</th>\n",
       "      <th>feature_5</th>\n",
       "      <th>target</th>\n",
       "    </tr>\n",
       "  </thead>\n",
       "  <tbody>\n",
       "    <tr>\n",
       "      <th>0</th>\n",
       "      <td>0.293416</td>\n",
       "      <td>-0.945599</td>\n",
       "      <td>-0.421105</td>\n",
       "      <td>0.406816</td>\n",
       "      <td>0.525662</td>\n",
       "      <td>-82.154667</td>\n",
       "    </tr>\n",
       "    <tr>\n",
       "      <th>1</th>\n",
       "      <td>-0.836084</td>\n",
       "      <td>-0.189228</td>\n",
       "      <td>-0.776403</td>\n",
       "      <td>-1.053831</td>\n",
       "      <td>0.597997</td>\n",
       "      <td>-48.897960</td>\n",
       "    </tr>\n",
       "    <tr>\n",
       "      <th>2</th>\n",
       "      <td>0.236425</td>\n",
       "      <td>0.132836</td>\n",
       "      <td>-0.147723</td>\n",
       "      <td>0.699854</td>\n",
       "      <td>-0.187364</td>\n",
       "      <td>77.270371</td>\n",
       "    </tr>\n",
       "    <tr>\n",
       "      <th>3</th>\n",
       "      <td>0.175312</td>\n",
       "      <td>0.143194</td>\n",
       "      <td>-0.581111</td>\n",
       "      <td>-0.122107</td>\n",
       "      <td>-1.292168</td>\n",
       "      <td>-2.988581</td>\n",
       "    </tr>\n",
       "    <tr>\n",
       "      <th>4</th>\n",
       "      <td>-1.693011</td>\n",
       "      <td>0.542712</td>\n",
       "      <td>-2.798729</td>\n",
       "      <td>-0.686723</td>\n",
       "      <td>1.244077</td>\n",
       "      <td>-37.596722</td>\n",
       "    </tr>\n",
       "  </tbody>\n",
       "</table>\n",
       "</div>"
      ],
      "text/plain": [
       "   feature_1  feature_2  feature_3  feature_4  feature_5     target\n",
       "0   0.293416  -0.945599  -0.421105   0.406816   0.525662 -82.154667\n",
       "1  -0.836084  -0.189228  -0.776403  -1.053831   0.597997 -48.897960\n",
       "2   0.236425   0.132836  -0.147723   0.699854  -0.187364  77.270371\n",
       "3   0.175312   0.143194  -0.581111  -0.122107  -1.292168  -2.988581\n",
       "4  -1.693011   0.542712  -2.798729  -0.686723   1.244077 -37.596722"
      ]
     },
     "execution_count": 3,
     "metadata": {},
     "output_type": "execute_result"
    }
   ],
   "source": [
    "df.head()\n",
    "\n"
   ]
  },
  {
   "cell_type": "markdown",
   "metadata": {},
   "source": [
    "### Convert the dataframe into numpy array"
   ]
  },
  {
   "cell_type": "code",
   "execution_count": 4,
   "metadata": {},
   "outputs": [],
   "source": [
    "X = df.values"
   ]
  },
  {
   "cell_type": "code",
   "execution_count": 5,
   "metadata": {},
   "outputs": [],
   "source": [
    "Y = X[:,5]   # check your training file and divide the features and prediction acc."
   ]
  },
  {
   "cell_type": "code",
   "execution_count": 6,
   "metadata": {},
   "outputs": [],
   "source": [
    "X = X[:,:-1]\n",
    "\n"
   ]
  },
  {
   "cell_type": "markdown",
   "metadata": {},
   "source": [
    "### We are  using matix for implementation of this algorithm so when we obtain weight we also get bais with it so that we can reduce time complexity\n"
   ]
  },
  {
   "cell_type": "code",
   "execution_count": 7,
   "metadata": {},
   "outputs": [
    {
     "name": "stdout",
     "output_type": "stream",
     "text": [
      "[[ 1.          0.29341624 -0.94559871 -0.42110515  0.40681602  0.52566183]\n",
      " [ 1.         -0.83608408 -0.18922804 -0.77640262 -1.05383124  0.59799685]\n",
      " [ 1.          0.23642511  0.13283602 -0.14772298  0.69985396 -0.18736416]\n",
      " ...\n",
      " [ 1.          1.04417694 -0.89920649  1.73039905 -1.87105676  0.44251965]\n",
      " [ 1.         -1.2691729  -0.00505216  1.85766873 -1.08036482  0.73633394]\n",
      " [ 1.         -1.88400025 -0.84942743 -1.45227035  0.48861308  1.4595758 ]]\n"
     ]
    }
   ],
   "source": [
    "one = np.ones((X.shape[0],1))  ### we add one in front of our training data \n",
    "X = np.hstack((one,X))\n",
    "print(X)"
   ]
  },
  {
   "cell_type": "code",
   "execution_count": 8,
   "metadata": {},
   "outputs": [
    {
     "name": "stdout",
     "output_type": "stream",
     "text": [
      "(1600,) (1600, 6)\n"
     ]
    }
   ],
   "source": [
    "print(Y.shape,X.shape)"
   ]
  },
  {
   "cell_type": "markdown",
   "metadata": {},
   "source": [
    "### Normalization of Data"
   ]
  },
  {
   "cell_type": "code",
   "execution_count": 9,
   "metadata": {},
   "outputs": [],
   "source": [
    "u = X.mean()\n",
    "std = X.std()\n",
    "X = (X-u)/std"
   ]
  },
  {
   "cell_type": "code",
   "execution_count": 10,
   "metadata": {},
   "outputs": [],
   "source": [
    "def acc(y_,y): ## finds the accuracy of predicted data using R2 score method \n",
    "    s = np.sum((y-y_)**2)\n",
    "    k = np.sum((y-np.mean(y))**2)\n",
    "    return 1-(s/k)\n",
    "def pred(x,theta):  ### makes prediction \n",
    "    return np.dot(x,theta)\n",
    "def error(x,y,theta):  ### used to find error\n",
    "    e = 0.0\n",
    "    m = x.shape[0]\n",
    "    y_ = pred(x,theta)\n",
    "    e = np.sum((y_ - y)**2)\n",
    "    return e/m\n",
    "def grad(x,y,theta): ### used to find the gradient \n",
    "    m,n = x.shape\n",
    "    g = np.zeros((n,))\n",
    "    y_ = pred(x,theta)\n",
    "    g = np.dot(x.T,(y_-y))\n",
    "    return g/m\n",
    "def grad_des(x,y,l=0.1,max=500): ### used to find final parameters learned from training data and error_list\n",
    "    n = x.shape[1]\n",
    "    theta = np.zeros((n,))\n",
    "    er = []\n",
    "    for i in range(max):\n",
    "        ei = error(x,y,theta)\n",
    "        er.append(ei)\n",
    "        g = grad(x,y,theta)\n",
    "        theta = theta - l*g\n",
    "    return theta,er"
   ]
  },
  {
   "cell_type": "code",
   "execution_count": 11,
   "metadata": {},
   "outputs": [],
   "source": [
    "### Lets train our Data"
   ]
  },
  {
   "cell_type": "code",
   "execution_count": 12,
   "metadata": {},
   "outputs": [],
   "source": [
    "theta,e = grad_des(X,Y)"
   ]
  },
  {
   "cell_type": "code",
   "execution_count": 13,
   "metadata": {},
   "outputs": [
    {
     "name": "stdout",
     "output_type": "stream",
     "text": [
      "[37.09046246 29.48547523 92.04935807  8.22583053 44.47152069  2.50249268]\n"
     ]
    }
   ],
   "source": [
    "print(theta) ## these are the parameter learned by us it include bias also"
   ]
  },
  {
   "cell_type": "markdown",
   "metadata": {},
   "source": [
    "## Lets plot error list"
   ]
  },
  {
   "cell_type": "code",
   "execution_count": 14,
   "metadata": {},
   "outputs": [
    {
     "data": {
      "image/png": "[encoded data removed]",
      "text/plain": [
       "<Figure size 432x288 with 1 Axes>"
      ]
     },
     "metadata": {
      "needs_background": "light"
     },
     "output_type": "display_data"
    }
   ],
   "source": [
    "plt.plot(e)\n",
    "plt.show()\n"
   ]
  },
  {
   "cell_type": "markdown",
   "metadata": {},
   "source": [
    "### Time to make some predictions \n"
   ]
  },
  {
   "cell_type": "code",
   "execution_count": 15,
   "metadata": {},
   "outputs": [],
   "source": [
    "x = pd.read_csv('Test.csv')  ## read your  test csv file using pandas"
   ]
  },
  {
   "cell_type": "code",
   "execution_count": 16,
   "metadata": {},
   "outputs": [],
   "source": [
    "x = x.values  ## convert it to numpy array\n"
   ]
  },
  {
   "cell_type": "code",
   "execution_count": 17,
   "metadata": {},
   "outputs": [
    {
     "name": "stdout",
     "output_type": "stream",
     "text": [
      "(400, 6)\n"
     ]
    }
   ],
   "source": [
    "o = np.ones((x.shape[0],1))  ### we will modify our data by adding one  to it\n",
    "x = np.hstack((o,x))\n",
    "print(x.shape)\n",
    "\n"
   ]
  },
  {
   "cell_type": "markdown",
   "metadata": {},
   "source": [
    "### Final Prediction"
   ]
  },
  {
   "cell_type": "code",
   "execution_count": 18,
   "metadata": {},
   "outputs": [],
   "source": [
    "y = pred(x,theta)"
   ]
  },
  {
   "cell_type": "code",
   "execution_count": 19,
   "metadata": {},
   "outputs": [
    {
     "name": "stdout",
     "output_type": "stream",
     "text": [
      "[ 1.45958043e+02  1.49364479e+02  1.05365131e+01 -1.15136620e+01\n",
      " -6.31477392e+01 -1.20804124e+01 -4.29340057e+01  5.57957397e+01\n",
      "  2.04817588e+02  2.03838118e+02 -7.25723771e+01  1.14681367e+01\n",
      "  2.82451744e+01  1.54317857e+02  7.21736986e+01  7.75429009e+01\n",
      " -1.56241257e+02  5.45954445e+01  4.36965415e+01  1.67572528e+02\n",
      "  9.66192435e+01 -2.94458100e+01 -7.53462682e+01  2.47694358e+01\n",
      " -2.60041981e+01  4.39428314e+01  6.11767029e+01  1.39107562e+02\n",
      "  5.61196034e+01  6.20023636e+00  1.42366353e+02 -1.24502348e+01\n",
      "  2.47497959e+02  1.83636257e+01 -1.94958065e+02  1.86003641e+02\n",
      "  2.99214132e+01  4.47713694e+01 -2.74135377e+02  1.08733059e+02\n",
      " -4.85380701e+01 -1.73133178e+02 -2.05050540e+02  1.65998236e+02\n",
      " -4.11309671e+01  1.36898400e+02  2.85655291e+01  5.26005704e+01\n",
      " -6.52376557e+01  4.79768555e+00  4.28768540e+01 -1.41176642e+02\n",
      "  9.68571554e+01 -6.50267098e+01 -7.33169612e+01 -1.22777836e+02\n",
      "  9.42548402e+01  1.40042745e+02 -4.19841488e+01  7.35959789e+01\n",
      "  7.30840491e+01 -1.83356246e+01  1.95928772e+02  7.54078708e+01\n",
      "  8.86929238e+01  5.60940506e+01  1.13269469e+02  3.03414065e+01\n",
      "  2.90556636e+01  3.39303174e+01  8.35119259e+00  1.92936163e+02\n",
      " -8.60909994e+00  5.35459596e+01 -3.38584740e+01 -3.66801498e+01\n",
      "  6.88863277e+01 -1.27295919e+02  3.03826482e+01  1.82440670e+02\n",
      " -5.63773434e+00 -8.73920428e+01 -1.61017299e+02  6.83407301e+01\n",
      "  1.77589382e+02  3.01766286e+02 -2.23165801e+02 -5.58328320e+01\n",
      "  1.07888701e+02 -5.72150026e+01 -1.69504739e+01  1.56889843e+02\n",
      " -1.30674210e+02 -8.39178370e+01  8.05206576e+01  1.29651375e+02\n",
      " -1.82022503e+02 -8.83538996e+01 -1.39073933e+02 -1.87877256e+01\n",
      "  1.59277610e+02 -5.12070751e+01  2.82249895e+01  3.06839742e+01\n",
      "  3.22007805e+01  1.12324706e+02  7.63475658e+01  1.23973349e+02\n",
      "  2.03925591e+00 -5.14516916e+01  7.04827359e+01  5.02965979e+01\n",
      "  1.48757566e+02  3.97902455e+01  1.05212520e+02  6.46410535e+01\n",
      " -1.09329157e+02  3.92975714e+01  5.30075049e+01  9.49440346e+00\n",
      "  1.10746262e+01 -2.21946327e+02  2.97800248e+02  1.86145867e+02\n",
      "  4.63793562e+01  1.15092394e+02  2.00686509e+01 -1.19951806e+02\n",
      "  1.43782440e+02  2.98654008e-01 -1.82462873e+02  1.52389214e+02\n",
      "  2.43722186e+00 -5.41277276e+01  2.01727356e+02  7.10654821e+01\n",
      "  1.29304176e+01  9.34880103e+01  7.79088287e+01 -1.41738835e+02\n",
      "  1.61426928e+02 -4.01929262e+01  2.42819580e+02  1.66583220e+02\n",
      "  3.23610944e+01 -1.20694204e+02  1.73599575e+01  1.64908212e+02\n",
      "  6.78573672e+01  8.94552911e+01  2.77958832e+01 -1.06932736e+01\n",
      "  4.97370006e+01 -3.71114612e+01  6.04900071e+01  1.73187060e+02\n",
      "  3.76661490e+02  2.47621377e+02  5.97647442e+01 -5.35683507e+00\n",
      " -1.38130672e+02  4.49433572e+01  3.28764450e+02  1.07270471e+02\n",
      "  1.01697095e+01  1.86780861e+02 -1.22532164e+02  1.72604869e+02\n",
      "  2.02080488e+02 -1.45059179e+01  9.72763952e+01  1.28742415e+02\n",
      "  1.26431178e+02  6.37931387e+01  2.05316036e+02 -1.18022441e+02\n",
      " -6.15775838e+01 -1.36521228e+02  1.39566703e+01 -7.44354518e+01\n",
      "  1.80993802e+01 -2.62903565e+01 -4.24539156e+01  9.90455542e+01\n",
      " -3.63814725e+01  1.20376609e+02 -2.45845355e+01 -7.68826109e+01\n",
      " -4.51361661e+01  2.16533571e+02 -9.02158318e+00  2.50314780e+02\n",
      " -2.41101458e+01 -5.09364300e+01  7.91431927e+01  3.27544534e+01\n",
      "  1.03042356e+02 -2.81300756e+01  2.40404396e+02 -1.05587216e+02\n",
      " -6.40744710e+01 -8.26866749e+01  5.69327411e+01  8.60685043e+01\n",
      "  1.81639450e+02  7.87205298e+01  1.23509376e+02  2.04000846e+02\n",
      " -2.36630521e+02 -1.40574515e+02 -7.24748919e+01 -4.98357354e+01\n",
      "  6.10203515e+01 -1.78666283e+01  1.09712791e+02  1.20682478e+01\n",
      " -1.97383014e+01  3.69118665e+00  9.73541505e+01  1.23256298e+02\n",
      " -4.99880425e+01 -1.15346086e+02  8.04881430e+01  2.69121635e+02\n",
      " -1.62451477e+01  4.77913517e+01 -2.94472808e+01  4.51940900e+01\n",
      "  4.20951122e+01  7.18326941e+01  1.47323872e+02  5.06759562e+01\n",
      " -7.44872530e+01  7.85926188e+01  1.31510544e+02 -5.60336201e+01\n",
      " -1.41405800e+02  2.00489281e+02  1.40761764e+02  9.38116054e+01\n",
      "  2.36450740e+01  7.44054285e+00 -1.52683934e+01 -1.37747306e+02\n",
      " -3.24382737e+01  4.56794034e+00 -1.38135959e+02  4.10984444e+00\n",
      "  6.62242597e+01 -8.86736023e+01  4.94436514e+01  3.13645528e+01\n",
      " -2.20367941e+02 -2.19719207e+02 -1.32648677e+02  7.85345503e+01\n",
      "  1.62873705e+02  1.02445819e+02  1.51215251e+02  1.25354599e+02\n",
      "  5.41149002e+01 -2.71986843e+02  2.18028981e+02 -9.70936678e+01\n",
      " -1.14787402e+01 -5.21356328e+01 -5.48024010e+01  1.68289814e+02\n",
      "  1.93719341e+02 -8.03064113e+00 -1.09241514e+02  1.44678292e+02\n",
      "  1.24474091e+01  1.19715536e+02  1.37423916e+02  5.72651243e+01\n",
      " -1.84145503e+01  5.35837410e+00  6.20425805e+01  1.05537471e+02\n",
      "  6.03056811e+01 -9.54341190e+01  1.69559768e+01  2.11681072e+01\n",
      " -9.38233029e+01  1.93179932e+02  2.21153581e+01 -1.00321551e+02\n",
      "  2.37217192e+02  8.06470205e+01  1.24717204e+02  6.33154075e+01\n",
      "  2.37800839e+02 -6.60646863e+00  1.60690249e+00 -7.77682341e+00\n",
      "  8.41458812e+01 -2.98586281e+01  1.25151176e+02 -5.16012478e+01\n",
      " -6.27667627e+01  7.91334195e+00 -5.70811766e+01  9.11095967e+00\n",
      "  9.14025736e+01 -8.42701587e-02 -4.14718409e+01 -1.46410686e+02\n",
      " -1.30469464e+02  7.30483406e+01  1.11879833e+02  3.31714875e+02\n",
      "  1.59836242e+02  1.62099826e+02  8.42999695e+01  1.09859720e+01\n",
      "  2.14187465e+02 -2.63537036e+01  1.60745456e+02  1.83777931e+02\n",
      " -9.69365981e-01 -1.68668559e+02 -6.60740288e+01  3.64469042e+01\n",
      " -1.23754605e+01 -5.43686830e+00  1.88911961e+02  1.65260412e+02\n",
      "  5.69914952e+01 -5.57213663e+01  2.18139946e+02 -3.28880171e+01\n",
      "  9.72390940e+01  1.11957009e+02  1.30284482e+02 -7.24256095e+01\n",
      "  1.45779773e+02 -2.55633971e+00  1.20155681e+02 -5.06853763e+01\n",
      " -1.68760492e+02  1.89307094e+02 -6.03993264e+01  9.76775776e+01\n",
      "  1.56815106e+02  6.26366937e+01 -1.41929131e+02 -1.34944071e+00\n",
      " -1.55095965e+01 -8.41191703e+01  4.43195104e+01 -5.54259886e+01\n",
      " -6.59354583e+00 -1.30200911e+02 -1.84887611e+02  3.76090976e+01\n",
      " -1.72452626e+02  2.16624725e+02  2.29437119e+01  5.00849694e+01\n",
      "  6.47133023e+01  2.71629707e+02  4.92842310e+00  1.65278024e+02\n",
      "  8.91496211e+01  4.26016466e+01 -5.38033415e+01  2.25396681e+01\n",
      "  2.54084674e+02  1.75242874e+01 -1.04876596e+02 -1.80480113e+01\n",
      " -6.09270123e+01  4.08904664e+01  1.76251230e+01 -3.03036046e+01\n",
      "  1.57759127e+01 -1.39685679e+02 -8.98467793e+01  7.71068540e+01\n",
      " -4.93054342e+00 -1.24264252e+02  1.19051955e+02  3.18139152e+01\n",
      "  1.64508635e+02 -1.47275652e+01  3.46901448e+01  2.05207228e+02\n",
      "  2.01931608e+02  7.82586415e+01  5.58867088e+00  9.13702032e+01\n",
      "  1.43052818e+02 -4.12871961e+00 -3.65490611e+01 -4.93139846e+01\n",
      " -1.52669095e+02  1.56595834e+02  9.70698277e+01  8.88146635e+01]\n"
     ]
    }
   ],
   "source": [
    "print(y)"
   ]
  },
  {
   "cell_type": "markdown",
   "metadata": {},
   "source": [
    "## Convert our numpy array to data frame "
   ]
  },
  {
   "cell_type": "code",
   "execution_count": 20,
   "metadata": {},
   "outputs": [],
   "source": [
    "yi = pd.DataFrame(data = y ,columns = [\"target\"] )  "
   ]
  },
  {
   "cell_type": "code",
   "execution_count": 21,
   "metadata": {},
   "outputs": [
    {
     "data": {
      "text/html": [
       "<div>\n",
       "<style scoped>\n",
       "    .dataframe tbody tr th:only-of-type {\n",
       "        vertical-align: middle;\n",
       "    }\n",
       "\n",
       "    .dataframe tbody tr th {\n",
       "        vertical-align: top;\n",
       "    }\n",
       "\n",
       "    .dataframe thead th {\n",
       "        text-align: right;\n",
       "    }\n",
       "</style>\n",
       "<table border=\"1\" class=\"dataframe\">\n",
       "  <thead>\n",
       "    <tr style=\"text-align: right;\">\n",
       "      <th></th>\n",
       "      <th>target</th>\n",
       "    </tr>\n",
       "  </thead>\n",
       "  <tbody>\n",
       "    <tr>\n",
       "      <th>0</th>\n",
       "      <td>145.958043</td>\n",
       "    </tr>\n",
       "    <tr>\n",
       "      <th>1</th>\n",
       "      <td>149.364479</td>\n",
       "    </tr>\n",
       "    <tr>\n",
       "      <th>2</th>\n",
       "      <td>10.536513</td>\n",
       "    </tr>\n",
       "    <tr>\n",
       "      <th>3</th>\n",
       "      <td>-11.513662</td>\n",
       "    </tr>\n",
       "    <tr>\n",
       "      <th>4</th>\n",
       "      <td>-63.147739</td>\n",
       "    </tr>\n",
       "  </tbody>\n",
       "</table>\n",
       "</div>"
      ],
      "text/plain": [
       "       target\n",
       "0  145.958043\n",
       "1  149.364479\n",
       "2   10.536513\n",
       "3  -11.513662\n",
       "4  -63.147739"
      ]
     },
     "execution_count": 21,
     "metadata": {},
     "output_type": "execute_result"
    }
   ],
   "source": [
    "yi.head()"
   ]
  },
  {
   "cell_type": "markdown",
   "metadata": {},
   "source": [
    "## Create a result.csv file to save the dataframe in it "
   ]
  },
  {
   "cell_type": "code",
   "execution_count": 22,
   "metadata": {},
   "outputs": [],
   "source": [
    "yi.to_csv('result.csv',index = True)"
   ]
  },
  {
   "cell_type": "code",
   "execution_count": null,
   "metadata": {},
   "outputs": [],
   "source": []
  },
  {
   "cell_type": "code",
   "execution_count": null,
   "metadata": {},
   "outputs": [],
   "source": []
  }
 ],
 "metadata": {
  "kernelspec": {
   "display_name": "Python 3",
   "language": "python",
   "name": "python3"
  },
  "language_info": {
   "codemirror_mode": {
    "name": "ipython",
    "version": 3
   },
   "file_extension": ".py",
   "mimetype": "text/x-python",
   "name": "python",
   "nbconvert_exporter": "python",
   "pygments_lexer": "ipython3",
   "version": "3.8.2"
  }
 },
 "nbformat": 4,
 "nbformat_minor": 4
}
